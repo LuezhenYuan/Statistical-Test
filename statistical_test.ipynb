{
  "nbformat": 4,
  "nbformat_minor": 0,
  "metadata": {
    "colab": {
      "provenance": []
    },
    "kernelspec": {
      "name": "python3",
      "display_name": "Python 3"
    },
    "language_info": {
      "name": "python"
    }
  },
  "cells": [
    {
      "cell_type": "code",
      "execution_count": null,
      "metadata": {
        "colab": {
          "base_uri": "https://localhost:8080/"
        },
        "id": "T5M2NuZ8wWlS",
        "outputId": "8d07b798-8b6a-449a-c145-5891e2176cef"
      },
      "outputs": [
        {
          "output_type": "stream",
          "name": "stdout",
          "text": [
            "Requirement already satisfied: scipy in /usr/local/lib/python3.10/dist-packages (1.10.1)\n",
            "Requirement already satisfied: statsmodels in /usr/local/lib/python3.10/dist-packages (0.13.5)\n",
            "Requirement already satisfied: numpy<1.27.0,>=1.19.5 in /usr/local/lib/python3.10/dist-packages (from scipy) (1.22.4)\n",
            "Requirement already satisfied: pandas>=0.25 in /usr/local/lib/python3.10/dist-packages (from statsmodels) (1.5.3)\n",
            "Requirement already satisfied: patsy>=0.5.2 in /usr/local/lib/python3.10/dist-packages (from statsmodels) (0.5.3)\n",
            "Requirement already satisfied: packaging>=21.3 in /usr/local/lib/python3.10/dist-packages (from statsmodels) (23.1)\n",
            "Requirement already satisfied: python-dateutil>=2.8.1 in /usr/local/lib/python3.10/dist-packages (from pandas>=0.25->statsmodels) (2.8.2)\n",
            "Requirement already satisfied: pytz>=2020.1 in /usr/local/lib/python3.10/dist-packages (from pandas>=0.25->statsmodels) (2022.7.1)\n",
            "Requirement already satisfied: six in /usr/local/lib/python3.10/dist-packages (from patsy>=0.5.2->statsmodels) (1.16.0)\n"
          ]
        }
      ],
      "source": [
        "## install necessary packages\n",
        "! pip install scipy statsmodels"
      ]
    },
    {
      "cell_type": "code",
      "source": [
        "import numpy as np"
      ],
      "metadata": {
        "id": "Fs3seXbI1OOa"
      },
      "execution_count": null,
      "outputs": []
    },
    {
      "cell_type": "markdown",
      "source": [
        "## Two samples"
      ],
      "metadata": {
        "id": "IuwAimtLwsNI"
      }
    },
    {
      "cell_type": "code",
      "source": [
        "data_condition_1 = [0.37517131, 1.34225835, 1.28257034, ]\n",
        "data_condition_2 = [2.1653674, 3.43244174, 2.44695665, ]\n",
        "labels = ['Old','PR']\n",
        "\n",
        "data_condition_1 = np.array(data_condition_1)\n",
        "data_condition_2 = np.array(data_condition_2)\n"
      ],
      "metadata": {
        "id": "pNXgoQTowQ1G"
      },
      "execution_count": null,
      "outputs": []
    },
    {
      "cell_type": "markdown",
      "source": [
        "### For unpaired samples"
      ],
      "metadata": {
        "id": "molGlJBb5DJ1"
      }
    },
    {
      "cell_type": "markdown",
      "source": [
        "#### t-test"
      ],
      "metadata": {
        "id": "nxV_DuLdxnQ0"
      }
    },
    {
      "cell_type": "code",
      "source": [
        "from scipy.stats import ttest_ind\n",
        "\n",
        "\n",
        "statistic, p_value = ttest_ind(data_condition_1, data_condition_2, alternative='less') # or 'greater', 'two-sided'\n",
        "\n",
        "# Print the test statistic and p-value\n",
        "print(\"Paired t-test statistic:\", statistic)\n",
        "print(\"p-value:\", p_value)"
      ],
      "metadata": {
        "colab": {
          "base_uri": "https://localhost:8080/"
        },
        "id": "fDRUpPQDxmSc",
        "outputId": "79b62ee7-21d8-4d3f-b857-7e575d14ab52"
      },
      "execution_count": null,
      "outputs": [
        {
          "output_type": "stream",
          "name": "stdout",
          "text": [
            "Paired t-test statistic: -3.3941894950893134\n",
            "p-value: 0.013711903062477831\n"
          ]
        }
      ]
    },
    {
      "cell_type": "markdown",
      "source": [
        "#### Mann-Whitney U test, Wilcoxon rank-sum test\n",
        "\n",
        "A nonparametric test of the null hypothesis that, for randomly selected values X and Y from two populations, the probability of X being greater than Y is equal to the probability of Y being greater than X."
      ],
      "metadata": {
        "id": "5MeBkYUywK7-"
      }
    },
    {
      "cell_type": "code",
      "source": [
        "from scipy.stats import mannwhitneyu\n",
        "\n",
        "statistic, p_value = mannwhitneyu(data_condition_1, data_condition_2, alternative='less') # or 'greater', 'two-sided'\n",
        "\n",
        "# Print the test statistic and p-value\n",
        "print(\"Mann-Whitney U statistic:\", statistic)\n",
        "print(\"p-value:\", p_value)"
      ],
      "metadata": {
        "colab": {
          "base_uri": "https://localhost:8080/"
        },
        "id": "vvzvE-l1xqVb",
        "outputId": "6912e2ee-43be-4ac9-aa28-a3a366423ab0"
      },
      "execution_count": null,
      "outputs": [
        {
          "output_type": "stream",
          "name": "stdout",
          "text": [
            "Mann-Whitney U statistic: 0.0\n",
            "p-value: 0.05\n"
          ]
        }
      ]
    },
    {
      "cell_type": "markdown",
      "source": [
        "### Two paired samples"
      ],
      "metadata": {
        "id": "RJ2bKjjN5QW-"
      }
    },
    {
      "cell_type": "markdown",
      "source": [
        "#### Paired t-test"
      ],
      "metadata": {
        "id": "O-FblfLFwI0O"
      }
    },
    {
      "cell_type": "code",
      "source": [
        "from scipy.stats import ttest_rel\n",
        "\n",
        "\n",
        "statistic, p_value = ttest_rel(data_condition_1, data_condition_2, alternative='less') # or 'less', 'greater', 'two-sided'\n",
        "\n",
        "# Print the test statistic and p-value\n",
        "print(\"Paired t-test statistic:\", statistic)\n",
        "print(\"p-value:\", p_value)"
      ],
      "metadata": {
        "colab": {
          "base_uri": "https://localhost:8080/"
        },
        "id": "EQkk_GtCwNNX",
        "outputId": "458955ca-e1c3-4547-f050-01807bcfd8ed"
      },
      "execution_count": null,
      "outputs": [
        {
          "output_type": "stream",
          "name": "stdout",
          "text": [
            "Paired t-test statistic: -3.5636441674348647\n",
            "p-value: 0.03525773179171569\n"
          ]
        }
      ]
    },
    {
      "cell_type": "markdown",
      "source": [
        "#### Wilcoxon signed-rank test\n",
        "\n",
        "Nonparametric tests used on two dependent samples (two paired samples)"
      ],
      "metadata": {
        "id": "nyTlDb6Jw1yV"
      }
    },
    {
      "cell_type": "code",
      "source": [
        "from scipy.stats import wilcoxon\n",
        "\n",
        "statistic, p_value = wilcoxon(data_condition_1, data_condition_2, alternative='less', method='exact') # or 'greater', 'two-sided'\n",
        "\n",
        "# Print the test statistic and p-value\n",
        "print(\"Wilcoxon signed-rank test statistic:\", statistic)\n",
        "print(\"p-value:\", p_value)"
      ],
      "metadata": {
        "colab": {
          "base_uri": "https://localhost:8080/"
        },
        "id": "PGsaZ3hGxAw4",
        "outputId": "b2d23e23-ff0c-47ca-ef48-39ebb7a4e083"
      },
      "execution_count": null,
      "outputs": [
        {
          "output_type": "stream",
          "name": "stdout",
          "text": [
            "Wilcoxon signed-rank test statistic: 0.0\n",
            "p-value: 0.125\n"
          ]
        }
      ]
    },
    {
      "cell_type": "markdown",
      "source": [
        "## Three samples"
      ],
      "metadata": {
        "id": "39H6Y4QTxB4p"
      }
    },
    {
      "cell_type": "code",
      "source": [
        "data_condition_1 = [1.01791, 0.91535, 1.06859, 1.04809, 0.95006, 1.94867, 0.98449, 0.88169, 1.32841, 0.7653, 0.82278, 0.62459, 0.87021, 1.09238, 0.93135, 0.97596, 0.77417, ]\n",
        "data_condition_2 = [0.86777, 1.18033, 1.30199, 1.52941, 1.43795, 0.98535, 1.19833, 1.40209, 1.41328, 1.67184, 1.7365, 1.21562, 2.05816, 2.11645, 1.96215, 1.15355, 1.51858, 1.72454, ]\n",
        "data_condition_3 = [2.30181, 0.84994, 2.55845, 1.71232, 1.4842, 3.07348, 1.97706, 1.63666, 2.76425, 2.95245, 1.11862, ]\n",
        "labels = ['Old','Young','PR']\n",
        "\n",
        "data_condition_1 = np.array(data_condition_1)\n",
        "data_condition_2 = np.array(data_condition_2)\n",
        "data_condition_3 = np.array(data_condition_3)"
      ],
      "metadata": {
        "id": "OiplxlY3xGao"
      },
      "execution_count": null,
      "outputs": []
    },
    {
      "cell_type": "markdown",
      "source": [
        "### One-way ANOVA\n",
        "\n",
        "Tukey's Honestly Significant Difference (HSD) test for the multiple comparisons"
      ],
      "metadata": {
        "id": "vTKPZe9_wvlI"
      }
    },
    {
      "cell_type": "code",
      "source": [
        "from scipy.stats import f_oneway\n",
        "from statsmodels.stats.multicomp import pairwise_tukeyhsd"
      ],
      "metadata": {
        "id": "vWYUVJAaw0ga"
      },
      "execution_count": null,
      "outputs": []
    },
    {
      "cell_type": "code",
      "source": [
        "# Perform one-way ANOVA\n",
        "f_statistic, p_value = f_oneway(data_condition_1, data_condition_2, data_condition_3)\n",
        "\n",
        "# Print the test statistic and p-value\n",
        "print(\"One-way ANOVA F-statistic:\", f_statistic)\n",
        "print(\"p-value:\", p_value)"
      ],
      "metadata": {
        "colab": {
          "base_uri": "https://localhost:8080/"
        },
        "id": "MigMS9v2xT_f",
        "outputId": "5ecd436c-65e6-4eaf-887a-65653c1ef26c"
      },
      "execution_count": null,
      "outputs": [
        {
          "output_type": "stream",
          "name": "stdout",
          "text": [
            "One-way ANOVA F-statistic: 17.127507848073474\n",
            "p-value: 3.381801133169439e-06\n"
          ]
        }
      ]
    },
    {
      "cell_type": "code",
      "source": [
        "# Conduct Tukey's HSD test for multiple comparisons\n",
        "data_all = np.concatenate([data_condition_1, data_condition_2, data_condition_3])\n",
        "group_labels = [labels[0]] * len(data_condition_1) + [labels[1]] * len(data_condition_2) + [labels[2]] * len(data_condition_3)\n",
        "\n",
        "tukey_result = pairwise_tukeyhsd(data_all, group_labels)\n",
        "\n",
        "# Print the results of Tukey's HSD test\n",
        "print(tukey_result)"
      ],
      "metadata": {
        "colab": {
          "base_uri": "https://localhost:8080/"
        },
        "id": "7sfTPU84xl3o",
        "outputId": "ea7513a4-3b9c-4eac-e242-f628a65a1e41"
      },
      "execution_count": null,
      "outputs": [
        {
          "output_type": "stream",
          "name": "stdout",
          "text": [
            "Multiple Comparison of Means - Tukey HSD, FWER=0.05 \n",
            "====================================================\n",
            "group1 group2 meandiff p-adj   lower   upper  reject\n",
            "----------------------------------------------------\n",
            "   Old     PR    1.039    0.0  0.6068  1.4712   True\n",
            "   Old  Young   0.4708 0.0114   0.093  0.8485   True\n",
            "    PR  Young  -0.5683 0.0066 -0.9957 -0.1408   True\n",
            "----------------------------------------------------\n"
          ]
        }
      ]
    },
    {
      "cell_type": "code",
      "source": [
        "tukey_result.pvalues"
      ],
      "metadata": {
        "colab": {
          "base_uri": "https://localhost:8080/"
        },
        "id": "G2n15VuU4mYv",
        "outputId": "cce7ab89-dcc5-40bb-f93a-2bbb7dc89b1e"
      },
      "execution_count": null,
      "outputs": [
        {
          "output_type": "execute_result",
          "data": {
            "text/plain": [
              "array([1.87907153e-06, 1.14243459e-02, 6.63775135e-03])"
            ]
          },
          "metadata": {},
          "execution_count": 12
        }
      ]
    }
  ]
}